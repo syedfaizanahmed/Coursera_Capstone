{
 "cells": [
  {
   "cell_type": "markdown",
   "metadata": {},
   "source": [
    "# Facilites around Primary Airports in Pakistan"
   ]
  },
  {
   "cell_type": "markdown",
   "metadata": {},
   "source": [
    "## Introduction\n",
    "\n",
    "Pakistan has long faced a tide of terrorism and a loss of billions of dollars in tourism industry. People around the globe had been reluctant to visit Pakistan due to their pre-imposed idea about the country and its people. But in recent years, this attitude is being shifting towards positive, thanks to the travellogues written by local and foreign tourists. \n",
    "\n",
    "This positive shift is a welcoming one, by the people of Pakistan and the Government, which is trying its best to show the warm and sunny side of the country that has been long murking in the dark, in the eyes of the world. It is not a surprise now, that the Pakistani tourism industry is on the rise and more and more tourists and businessmen are coming to Pakistan for liesure and busieness purposes. \n",
    "\n",
    "In this regard, one of the main focus from the Government and people should be to increase the facilities for the incoming foreign and local tourists, so that local businesses may cash-in this opportunity. \n",
    "\n",
    "It has been observed by some of the tourists, especially the foriegners, who are not accustomed to the local areas, that they sometimes find it hard to locate local leisure and dining facilities due to the lack of proper travelling mobile apps."
   ]
  },
  {
   "cell_type": "markdown",
   "metadata": {},
   "source": [
    "### Overview of the Problem\n",
    "\n",
    "Most of the tourists coming from foriegn countries often opt to stay in hotels near the airport. Because of the adventurous and freecaring nature of tourists, they mostly want to visit the city by themsleves without much guidance from any local guide. All tourists coming to Pakistan should have the opportunity to roam and visit the city freely without much intervention from locals, which is guaranteed to give them a sense of freedom and adventure.\n",
    "\n",
    "Using google maps or apple maps does not provide much independence in this regards, as it only shows the map of the city without categorizing the venues that might be useful to the tourist. \n",
    "\n",
    "In this project, I am using Foursquare to provide an overview of an app, that could be used by the tourists who come through major/primary international Airports in Pakistan, to have that sense of adventure and freedom. \n",
    "\n",
    "I will be using foursquare to locate venues near the Airports, categorizing them, so that it is close enough to walk freely from airport  or airport hotel."
   ]
  },
  {
   "cell_type": "markdown",
   "metadata": {},
   "source": [
    "### Who should be interested\n",
    "\n",
    "This is a business problem that should be concerning the Tourism Ministry, city governments and businesses in Pakistan. It is a provision of an exciting opportunity to invest in tourism industry, by facilitating the tourists which results in the goodwill of the country and city."
   ]
  },
  {
   "cell_type": "code",
   "execution_count": null,
   "metadata": {},
   "outputs": [],
   "source": []
  }
 ],
 "metadata": {
  "kernelspec": {
   "display_name": "Python",
   "language": "python",
   "name": "conda-env-python-py"
  },
  "language_info": {
   "codemirror_mode": {
    "name": "ipython",
    "version": 3
   },
   "file_extension": ".py",
   "mimetype": "text/x-python",
   "name": "python",
   "nbconvert_exporter": "python",
   "pygments_lexer": "ipython3",
   "version": "3.6.11"
  }
 },
 "nbformat": 4,
 "nbformat_minor": 4
}
